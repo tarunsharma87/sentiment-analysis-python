{
 "cells": [
  {
   "cell_type": "code",
   "execution_count": 2,
   "metadata": {},
   "outputs": [],
   "source": [
    "import pandas as pd\n",
    "import numpy as np\n",
    "import matplotlib.pyplot as plt\n",
    "%matplotlib inline\n",
    "plt.style.use('ggplot')"
   ]
  },
  {
   "cell_type": "code",
   "execution_count": 3,
   "metadata": {},
   "outputs": [],
   "source": [
    "filepath_dict = {\n",
    "    'yelp': './Dataset/yelp_labelled.txt',\n",
    "    'imdb': './Dataset/imdb_labelled.txt',\n",
    "    'amzn': './Dataset/amazon_cells_labelled.txt'\n",
    "}"
   ]
  },
  {
   "cell_type": "code",
   "execution_count": 4,
   "metadata": {},
   "outputs": [],
   "source": [
    "df_list = []\n",
    "for source, filepath in filepath_dict.items():\n",
    "    df = pd.read_csv(filepath, names=['sentence', 'label'], sep='\\t')\n",
    "    df['source'] = source\n",
    "    df_list.append(df)"
   ]
  },
  {
   "cell_type": "code",
   "execution_count": 5,
   "metadata": {},
   "outputs": [],
   "source": [
    "df = pd.concat(df_list)\n",
    "del df_list"
   ]
  },
  {
   "cell_type": "code",
   "execution_count": 6,
   "metadata": {},
   "outputs": [
    {
     "data": {
      "text/plain": [
       "(2748, 3)"
      ]
     },
     "execution_count": 6,
     "metadata": {},
     "output_type": "execute_result"
    }
   ],
   "source": [
    "df.shape"
   ]
  },
  {
   "cell_type": "code",
   "execution_count": 7,
   "metadata": {},
   "outputs": [
    {
     "name": "stdout",
     "output_type": "stream",
     "text": [
      "<class 'pandas.core.frame.DataFrame'>\n",
      "Int64Index: 2748 entries, 0 to 999\n",
      "Data columns (total 3 columns):\n",
      "sentence    2748 non-null object\n",
      "label       2748 non-null int64\n",
      "source      2748 non-null object\n",
      "dtypes: int64(1), object(2)\n",
      "memory usage: 85.9+ KB\n"
     ]
    }
   ],
   "source": [
    "df.info()"
   ]
  },
  {
   "cell_type": "markdown",
   "metadata": {},
   "source": [
    "### feature-engineering"
   ]
  },
  {
   "cell_type": "code",
   "execution_count": 16,
   "metadata": {},
   "outputs": [],
   "source": [
    "from sklearn.model_selection import train_test_split\n",
    "from sklearn.feature_extraction.text import CountVectorizer"
   ]
  },
  {
   "cell_type": "code",
   "execution_count": 13,
   "metadata": {},
   "outputs": [],
   "source": [
    "import string\n",
    "from nltk.corpus import stopwords\n",
    "\n",
    "english_stop_words = stopwords.words('english')\n",
    "for i in string.punctuation:\n",
    "    english_stop_words.append(i)"
   ]
  },
  {
   "cell_type": "code",
   "execution_count": 44,
   "metadata": {},
   "outputs": [],
   "source": [
    "sentences = df['sentence'].values\n",
    "y = df['label'].values\n",
    "sentences_train, sentences_test, y_train, y_test = train_test_split(sentences, y, test_size=0.25, random_state=42)\n",
    "vectorizer = CountVectorizer(stop_words=english_stop_words)\n",
    "vectorizer.fit(sentences_train)\n",
    "X_train = vectorizer.transform(sentences_train)\n",
    "X_test = vectorizer.transform(sentences_test)"
   ]
  },
  {
   "cell_type": "markdown",
   "metadata": {},
   "source": [
    "## Modelling"
   ]
  },
  {
   "cell_type": "code",
   "execution_count": 22,
   "metadata": {},
   "outputs": [],
   "source": [
    "from keras.models import Sequential\n",
    "from keras.layers import Dense"
   ]
  },
  {
   "cell_type": "code",
   "execution_count": 19,
   "metadata": {},
   "outputs": [
    {
     "name": "stdout",
     "output_type": "stream",
     "text": [
      "WARNING:tensorflow:From /home/info/anaconda3/envs/hackathon/lib/python3.5/site-packages/tensorflow/python/framework/op_def_library.py:263: colocate_with (from tensorflow.python.framework.ops) is deprecated and will be removed in a future version.\n",
      "Instructions for updating:\n",
      "Colocations handled automatically by placer.\n"
     ]
    }
   ],
   "source": [
    "input_dim = X_train.shape[1]\n",
    "model = Sequential()\n",
    "model.add(Dense(10, input_dim=input_dim, activation='relu'))\n",
    "model.add(Dense(1, activation='sigmoid'))"
   ]
  },
  {
   "cell_type": "code",
   "execution_count": 20,
   "metadata": {},
   "outputs": [],
   "source": [
    "model.compile(loss='binary_crossentropy', optimizer='adam', metrics=['accuracy'])"
   ]
  },
  {
   "cell_type": "code",
   "execution_count": 21,
   "metadata": {},
   "outputs": [
    {
     "name": "stdout",
     "output_type": "stream",
     "text": [
      "_________________________________________________________________\n",
      "Layer (type)                 Output Shape              Param #   \n",
      "=================================================================\n",
      "dense_1 (Dense)              (None, 10)                42490     \n",
      "_________________________________________________________________\n",
      "dense_2 (Dense)              (None, 1)                 11        \n",
      "=================================================================\n",
      "Total params: 42,501\n",
      "Trainable params: 42,501\n",
      "Non-trainable params: 0\n",
      "_________________________________________________________________\n"
     ]
    }
   ],
   "source": [
    "model.summary()"
   ]
  },
  {
   "cell_type": "code",
   "execution_count": 23,
   "metadata": {
    "scrolled": false
   },
   "outputs": [
    {
     "name": "stdout",
     "output_type": "stream",
     "text": [
      "WARNING:tensorflow:From /home/info/anaconda3/envs/hackathon/lib/python3.5/site-packages/tensorflow/python/ops/math_ops.py:3066: to_int32 (from tensorflow.python.ops.math_ops) is deprecated and will be removed in a future version.\n",
      "Instructions for updating:\n",
      "Use tf.cast instead.\n",
      "Train on 2061 samples, validate on 687 samples\n",
      "Epoch 1/50\n",
      "2061/2061 [==============================] - 1s 280us/step - loss: 0.6909 - acc: 0.5517 - val_loss: 0.6873 - val_acc: 0.5968\n",
      "Epoch 2/50\n",
      "2061/2061 [==============================] - 0s 52us/step - loss: 0.6727 - acc: 0.7603 - val_loss: 0.6770 - val_acc: 0.6681\n",
      "Epoch 3/50\n",
      "2061/2061 [==============================] - 0s 54us/step - loss: 0.6471 - acc: 0.8530 - val_loss: 0.6600 - val_acc: 0.7394\n",
      "Epoch 4/50\n",
      "2061/2061 [==============================] - 0s 54us/step - loss: 0.6116 - acc: 0.8976 - val_loss: 0.6396 - val_acc: 0.7656\n",
      "Epoch 5/50\n",
      "2061/2061 [==============================] - 0s 56us/step - loss: 0.5703 - acc: 0.9127 - val_loss: 0.6174 - val_acc: 0.7787\n",
      "Epoch 6/50\n",
      "2061/2061 [==============================] - 0s 62us/step - loss: 0.5273 - acc: 0.9277 - val_loss: 0.5950 - val_acc: 0.7846\n",
      "Epoch 7/50\n",
      "2061/2061 [==============================] - 0s 69us/step - loss: 0.4838 - acc: 0.9374 - val_loss: 0.5732 - val_acc: 0.7918\n",
      "Epoch 8/50\n",
      "2061/2061 [==============================] - 0s 71us/step - loss: 0.4429 - acc: 0.9403 - val_loss: 0.5525 - val_acc: 0.8006\n",
      "Epoch 9/50\n",
      "2061/2061 [==============================] - 0s 64us/step - loss: 0.4049 - acc: 0.9427 - val_loss: 0.5336 - val_acc: 0.8049\n",
      "Epoch 10/50\n",
      "2061/2061 [==============================] - 0s 63us/step - loss: 0.3699 - acc: 0.9466 - val_loss: 0.5165 - val_acc: 0.8093\n",
      "Epoch 11/50\n",
      "2061/2061 [==============================] - 0s 56us/step - loss: 0.3383 - acc: 0.9491 - val_loss: 0.5017 - val_acc: 0.8035\n",
      "Epoch 12/50\n",
      "2061/2061 [==============================] - 0s 54us/step - loss: 0.3107 - acc: 0.9529 - val_loss: 0.4887 - val_acc: 0.8035\n",
      "Epoch 13/50\n",
      "2061/2061 [==============================] - 0s 53us/step - loss: 0.2859 - acc: 0.9558 - val_loss: 0.4774 - val_acc: 0.8020\n",
      "Epoch 14/50\n",
      "2061/2061 [==============================] - 0s 54us/step - loss: 0.2641 - acc: 0.9592 - val_loss: 0.4678 - val_acc: 0.8006\n",
      "Epoch 15/50\n",
      "2061/2061 [==============================] - 0s 56us/step - loss: 0.2447 - acc: 0.9612 - val_loss: 0.4604 - val_acc: 0.8035\n",
      "Epoch 16/50\n",
      "2061/2061 [==============================] - 0s 55us/step - loss: 0.2276 - acc: 0.9646 - val_loss: 0.4541 - val_acc: 0.8049\n",
      "Epoch 17/50\n",
      "2061/2061 [==============================] - 0s 56us/step - loss: 0.2124 - acc: 0.9675 - val_loss: 0.4482 - val_acc: 0.8064\n",
      "Epoch 18/50\n",
      "2061/2061 [==============================] - 0s 52us/step - loss: 0.1985 - acc: 0.9685 - val_loss: 0.4436 - val_acc: 0.8049\n",
      "Epoch 19/50\n",
      "2061/2061 [==============================] - 0s 52us/step - loss: 0.1864 - acc: 0.9704 - val_loss: 0.4401 - val_acc: 0.8064\n",
      "Epoch 20/50\n",
      "2061/2061 [==============================] - 0s 59us/step - loss: 0.1752 - acc: 0.9714 - val_loss: 0.4370 - val_acc: 0.8035\n",
      "Epoch 21/50\n",
      "2061/2061 [==============================] - 0s 62us/step - loss: 0.1652 - acc: 0.9723 - val_loss: 0.4351 - val_acc: 0.8020\n",
      "Epoch 22/50\n",
      "2061/2061 [==============================] - 0s 55us/step - loss: 0.1561 - acc: 0.9733 - val_loss: 0.4337 - val_acc: 0.7977\n",
      "Epoch 23/50\n",
      "2061/2061 [==============================] - 0s 53us/step - loss: 0.1479 - acc: 0.9738 - val_loss: 0.4326 - val_acc: 0.7977\n",
      "Epoch 24/50\n",
      "2061/2061 [==============================] - 0s 55us/step - loss: 0.1404 - acc: 0.9743 - val_loss: 0.4321 - val_acc: 0.7962\n",
      "Epoch 25/50\n",
      "2061/2061 [==============================] - 0s 56us/step - loss: 0.1335 - acc: 0.9753 - val_loss: 0.4317 - val_acc: 0.7948\n",
      "Epoch 26/50\n",
      "2061/2061 [==============================] - 0s 59us/step - loss: 0.1271 - acc: 0.9767 - val_loss: 0.4323 - val_acc: 0.7948\n",
      "Epoch 27/50\n",
      "2061/2061 [==============================] - 0s 56us/step - loss: 0.1214 - acc: 0.9772 - val_loss: 0.4323 - val_acc: 0.7933\n",
      "Epoch 28/50\n",
      "2061/2061 [==============================] - 0s 58us/step - loss: 0.1160 - acc: 0.9782 - val_loss: 0.4334 - val_acc: 0.7904\n",
      "Epoch 29/50\n",
      "2061/2061 [==============================] - 0s 58us/step - loss: 0.1110 - acc: 0.9791 - val_loss: 0.4342 - val_acc: 0.7962\n",
      "Epoch 30/50\n",
      "2061/2061 [==============================] - 0s 58us/step - loss: 0.1063 - acc: 0.9806 - val_loss: 0.4354 - val_acc: 0.7933\n",
      "Epoch 31/50\n",
      "2061/2061 [==============================] - 0s 57us/step - loss: 0.1021 - acc: 0.9811 - val_loss: 0.4365 - val_acc: 0.7933\n",
      "Epoch 32/50\n",
      "2061/2061 [==============================] - 0s 58us/step - loss: 0.0980 - acc: 0.9816 - val_loss: 0.4386 - val_acc: 0.7933\n",
      "Epoch 33/50\n",
      "2061/2061 [==============================] - 0s 60us/step - loss: 0.0943 - acc: 0.9816 - val_loss: 0.4402 - val_acc: 0.7933\n",
      "Epoch 34/50\n",
      "2061/2061 [==============================] - 0s 59us/step - loss: 0.0907 - acc: 0.9816 - val_loss: 0.4422 - val_acc: 0.7933\n",
      "Epoch 35/50\n",
      "2061/2061 [==============================] - 0s 55us/step - loss: 0.0875 - acc: 0.9820 - val_loss: 0.4440 - val_acc: 0.7948\n",
      "Epoch 36/50\n",
      "2061/2061 [==============================] - 0s 57us/step - loss: 0.0844 - acc: 0.9825 - val_loss: 0.4465 - val_acc: 0.7918\n",
      "Epoch 37/50\n",
      "2061/2061 [==============================] - 0s 53us/step - loss: 0.0815 - acc: 0.9835 - val_loss: 0.4485 - val_acc: 0.7933\n",
      "Epoch 38/50\n",
      "2061/2061 [==============================] - 0s 52us/step - loss: 0.0788 - acc: 0.9840 - val_loss: 0.4518 - val_acc: 0.7889\n",
      "Epoch 39/50\n",
      "2061/2061 [==============================] - 0s 57us/step - loss: 0.0763 - acc: 0.9845 - val_loss: 0.4538 - val_acc: 0.7904\n",
      "Epoch 40/50\n",
      "2061/2061 [==============================] - 0s 53us/step - loss: 0.0737 - acc: 0.9850 - val_loss: 0.4567 - val_acc: 0.7875\n",
      "Epoch 41/50\n",
      "2061/2061 [==============================] - 0s 55us/step - loss: 0.0715 - acc: 0.9854 - val_loss: 0.4596 - val_acc: 0.7860\n",
      "Epoch 42/50\n",
      "2061/2061 [==============================] - 0s 70us/step - loss: 0.0692 - acc: 0.9859 - val_loss: 0.4624 - val_acc: 0.7846\n",
      "Epoch 43/50\n",
      "2061/2061 [==============================] - 0s 59us/step - loss: 0.0673 - acc: 0.9864 - val_loss: 0.4652 - val_acc: 0.7846\n",
      "Epoch 44/50\n",
      "2061/2061 [==============================] - 0s 58us/step - loss: 0.0653 - acc: 0.9869 - val_loss: 0.4682 - val_acc: 0.7860\n",
      "Epoch 45/50\n",
      "2061/2061 [==============================] - 0s 56us/step - loss: 0.0634 - acc: 0.9869 - val_loss: 0.4708 - val_acc: 0.7889\n",
      "Epoch 46/50\n",
      "2061/2061 [==============================] - 0s 60us/step - loss: 0.0616 - acc: 0.9874 - val_loss: 0.4742 - val_acc: 0.7860\n",
      "Epoch 47/50\n",
      "2061/2061 [==============================] - 0s 61us/step - loss: 0.0599 - acc: 0.9874 - val_loss: 0.4772 - val_acc: 0.7831\n",
      "Epoch 48/50\n",
      "2061/2061 [==============================] - 0s 69us/step - loss: 0.0583 - acc: 0.9879 - val_loss: 0.4804 - val_acc: 0.7860\n",
      "Epoch 49/50\n",
      "2061/2061 [==============================] - 0s 55us/step - loss: 0.0569 - acc: 0.9879 - val_loss: 0.4840 - val_acc: 0.7846\n",
      "Epoch 50/50\n",
      "2061/2061 [==============================] - 0s 62us/step - loss: 0.0553 - acc: 0.9884 - val_loss: 0.4866 - val_acc: 0.7860\n"
     ]
    }
   ],
   "source": [
    "history = model.fit(X_train, y_train, epochs=50, verbose=True, validation_data=(X_test, y_test), batch_size=100)"
   ]
  },
  {
   "cell_type": "code",
   "execution_count": 26,
   "metadata": {},
   "outputs": [
    {
     "name": "stdout",
     "output_type": "stream",
     "text": [
      "Training Accuracy: 0.9884, Loss: 0.0541\n",
      "Testing Accuracy: 0.7860, Loss: 0.4866\n"
     ]
    }
   ],
   "source": [
    "loss, accuracy = model.evaluate(X_train, y_train, verbose=False)\n",
    "print('Training Accuracy: {:.4f}, Loss: {:.4f}'.format(accuracy, loss))\n",
    "loss,accuracy = model.evaluate(X_test, y_test, verbose=False)\n",
    "print('Testing Accuracy: {:.4f}, Loss: {:.4f}'.format(accuracy, loss))"
   ]
  },
  {
   "cell_type": "code",
   "execution_count": 27,
   "metadata": {},
   "outputs": [],
   "source": [
    "def plot_history(history):\n",
    "    acc = history.history['acc']\n",
    "    val_acc = history.history['val_acc']\n",
    "    loss = history.history['loss']\n",
    "    val_loss = history.history['val_loss']\n",
    "    x = range(1, len(acc) + 1)\n",
    "\n",
    "    plt.figure(figsize=(12, 5))\n",
    "    plt.subplot(1, 2, 1)\n",
    "    plt.plot(x, acc, 'b', label='Training acc')\n",
    "    plt.plot(x, val_acc, 'r', label='Validation acc')\n",
    "    plt.title('Training and validation accuracy')\n",
    "    plt.legend()\n",
    "    plt.subplot(1, 2, 2)\n",
    "    plt.plot(x, loss, 'b', label='Training loss')\n",
    "    plt.plot(x, val_loss, 'r', label='Validation loss')\n",
    "    plt.title('Training and validation loss')\n",
    "    plt.legend()"
   ]
  },
  {
   "cell_type": "code",
   "execution_count": 28,
   "metadata": {},
   "outputs": [
    {
     "data": {
      "image/png": "[encoded data removed]",
      "text/plain": [
       "<matplotlib.figure.Figure at 0x7fc6f61a7668>"
      ]
     },
     "metadata": {
      "needs_background": "light"
     },
     "output_type": "display_data"
    }
   ],
   "source": [
    "plot_history(history)"
   ]
  },
  {
   "cell_type": "markdown",
   "metadata": {},
   "source": [
    "### Using word-embedding"
   ]
  },
  {
   "cell_type": "code",
   "execution_count": 60,
   "metadata": {},
   "outputs": [],
   "source": [
    "from keras.preprocessing.text import Tokenizer\n",
    "from keras.preprocessing.sequence import pad_sequences\n",
    "from keras.layers import Embedding, Flatten, GlobalMaxPool1D"
   ]
  },
  {
   "cell_type": "code",
   "execution_count": 46,
   "metadata": {},
   "outputs": [],
   "source": [
    "tokenizer = Tokenizer(num_words=5000)\n",
    "tokenizer.fit_on_texts(sentences_train)\n",
    "\n",
    "X_train = tokenizer.texts_to_sequences(sentences_train)\n",
    "X_test = tokenizer.texts_to_sequences(sentences_test)\n",
    "\n",
    "vocab_size = len(tokenizer.word_index)+1"
   ]
  },
  {
   "cell_type": "markdown",
   "metadata": {},
   "source": [
    "#### pad sequences with keras"
   ]
  },
  {
   "cell_type": "code",
   "execution_count": 47,
   "metadata": {
    "scrolled": true
   },
   "outputs": [],
   "source": [
    "maxlen = 100\n",
    "X_train = pad_sequences(X_train, padding='post', maxlen=maxlen)\n",
    "X_test  = pad_sequences(X_test,  padding='post', maxlen=maxlen)"
   ]
  },
  {
   "cell_type": "code",
   "execution_count": 50,
   "metadata": {},
   "outputs": [],
   "source": [
    "embedding_dim = 50\n",
    "model = Sequential()\n",
    "model.add(Embedding(input_dim=vocab_size, \n",
    "                    output_dim=embedding_dim, \n",
    "                    input_length=maxlen))\n",
    "model.add(Flatten())\n",
    "model.add(Dense(10, activation='relu'))\n",
    "model.add(Dense(1, activation='sigmoid'))"
   ]
  },
  {
   "cell_type": "code",
   "execution_count": 51,
   "metadata": {},
   "outputs": [],
   "source": [
    "model.compile(loss='binary_crossentropy',\n",
    "             optimizer='adam',\n",
    "             metrics=['accuracy'])"
   ]
  },
  {
   "cell_type": "code",
   "execution_count": 59,
   "metadata": {},
   "outputs": [
    {
     "name": "stdout",
     "output_type": "stream",
     "text": [
      "_________________________________________________________________\n",
      "Layer (type)                 Output Shape              Param #   \n",
      "=================================================================\n",
      "embedding_2 (Embedding)      (None, 100, 50)           224000    \n",
      "=================================================================\n",
      "Total params: 224,000\n",
      "Trainable params: 224,000\n",
      "Non-trainable params: 0\n",
      "_________________________________________________________________\n"
     ]
    }
   ],
   "source": [
    "model.summary()"
   ]
  },
  {
   "cell_type": "code",
   "execution_count": 53,
   "metadata": {
    "scrolled": false
   },
   "outputs": [
    {
     "name": "stdout",
     "output_type": "stream",
     "text": [
      "Train on 2061 samples, validate on 687 samples\n",
      "Epoch 1/50\n",
      "2061/2061 [==============================] - 1s 269us/step - loss: 0.6946 - acc: 0.5002 - val_loss: 0.6923 - val_acc: 0.5240\n",
      "Epoch 2/50\n",
      "2061/2061 [==============================] - 0s 70us/step - loss: 0.6914 - acc: 0.5706 - val_loss: 0.6920 - val_acc: 0.5226\n",
      "Epoch 3/50\n",
      "2061/2061 [==============================] - 0s 70us/step - loss: 0.6881 - acc: 0.5978 - val_loss: 0.6903 - val_acc: 0.5240\n",
      "Epoch 4/50\n",
      "2061/2061 [==============================] - 0s 72us/step - loss: 0.6813 - acc: 0.6618 - val_loss: 0.6870 - val_acc: 0.5852\n",
      "Epoch 5/50\n",
      "2061/2061 [==============================] - 0s 72us/step - loss: 0.6540 - acc: 0.7045 - val_loss: 0.6652 - val_acc: 0.6681\n",
      "Epoch 6/50\n",
      "2061/2061 [==============================] - 0s 91us/step - loss: 0.5420 - acc: 0.9015 - val_loss: 0.6111 - val_acc: 0.6885\n",
      "Epoch 7/50\n",
      "2061/2061 [==============================] - 0s 72us/step - loss: 0.3579 - acc: 0.9520 - val_loss: 0.5216 - val_acc: 0.7918\n",
      "Epoch 8/50\n",
      "2061/2061 [==============================] - 0s 70us/step - loss: 0.1880 - acc: 0.9728 - val_loss: 0.5089 - val_acc: 0.7424\n",
      "Epoch 9/50\n",
      "2061/2061 [==============================] - 0s 66us/step - loss: 0.1053 - acc: 0.9830 - val_loss: 0.4731 - val_acc: 0.7817\n",
      "Epoch 10/50\n",
      "2061/2061 [==============================] - 0s 75us/step - loss: 0.0617 - acc: 0.9942 - val_loss: 0.4691 - val_acc: 0.7831\n",
      "Epoch 11/50\n",
      "2061/2061 [==============================] - 0s 67us/step - loss: 0.0391 - acc: 0.9961 - val_loss: 0.4793 - val_acc: 0.7758\n",
      "Epoch 12/50\n",
      "2061/2061 [==============================] - 0s 74us/step - loss: 0.0274 - acc: 0.9971 - val_loss: 0.5032 - val_acc: 0.7817\n",
      "Epoch 13/50\n",
      "2061/2061 [==============================] - 0s 98us/step - loss: 0.0205 - acc: 0.9981 - val_loss: 0.5022 - val_acc: 0.7758\n",
      "Epoch 14/50\n",
      "2061/2061 [==============================] - 0s 86us/step - loss: 0.0155 - acc: 0.9990 - val_loss: 0.5181 - val_acc: 0.7715\n",
      "Epoch 15/50\n",
      "2061/2061 [==============================] - 0s 72us/step - loss: 0.0120 - acc: 0.9990 - val_loss: 0.5206 - val_acc: 0.7758\n",
      "Epoch 16/50\n",
      "2061/2061 [==============================] - 0s 67us/step - loss: 0.0095 - acc: 0.9995 - val_loss: 0.5358 - val_acc: 0.7715\n",
      "Epoch 17/50\n",
      "2061/2061 [==============================] - 0s 68us/step - loss: 0.0079 - acc: 1.0000 - val_loss: 0.5394 - val_acc: 0.7758\n",
      "Epoch 18/50\n",
      "2061/2061 [==============================] - 0s 71us/step - loss: 0.0066 - acc: 1.0000 - val_loss: 0.5478 - val_acc: 0.7773\n",
      "Epoch 19/50\n",
      "2061/2061 [==============================] - 0s 76us/step - loss: 0.0057 - acc: 1.0000 - val_loss: 0.5611 - val_acc: 0.7773\n",
      "Epoch 20/50\n",
      "2061/2061 [==============================] - 0s 77us/step - loss: 0.0049 - acc: 1.0000 - val_loss: 0.5625 - val_acc: 0.7802\n",
      "Epoch 21/50\n",
      "2061/2061 [==============================] - 0s 74us/step - loss: 0.0043 - acc: 1.0000 - val_loss: 0.5736 - val_acc: 0.7773\n",
      "Epoch 22/50\n",
      "2061/2061 [==============================] - 0s 80us/step - loss: 0.0037 - acc: 1.0000 - val_loss: 0.5851 - val_acc: 0.7758\n",
      "Epoch 23/50\n",
      "2061/2061 [==============================] - 0s 73us/step - loss: 0.0033 - acc: 1.0000 - val_loss: 0.5861 - val_acc: 0.7787\n",
      "Epoch 24/50\n",
      "2061/2061 [==============================] - 0s 69us/step - loss: 0.0030 - acc: 1.0000 - val_loss: 0.5943 - val_acc: 0.7729\n",
      "Epoch 25/50\n",
      "2061/2061 [==============================] - 0s 69us/step - loss: 0.0027 - acc: 1.0000 - val_loss: 0.6074 - val_acc: 0.7744\n",
      "Epoch 26/50\n",
      "2061/2061 [==============================] - 0s 76us/step - loss: 0.0024 - acc: 1.0000 - val_loss: 0.6050 - val_acc: 0.7787\n",
      "Epoch 27/50\n",
      "2061/2061 [==============================] - 0s 67us/step - loss: 0.0022 - acc: 1.0000 - val_loss: 0.6185 - val_acc: 0.7729\n",
      "Epoch 28/50\n",
      "2061/2061 [==============================] - 0s 80us/step - loss: 0.0020 - acc: 1.0000 - val_loss: 0.6176 - val_acc: 0.7802\n",
      "Epoch 29/50\n",
      "2061/2061 [==============================] - 0s 85us/step - loss: 0.0018 - acc: 1.0000 - val_loss: 0.6281 - val_acc: 0.7715\n",
      "Epoch 30/50\n",
      "2061/2061 [==============================] - 0s 70us/step - loss: 0.0017 - acc: 1.0000 - val_loss: 0.6300 - val_acc: 0.7773\n",
      "Epoch 31/50\n",
      "2061/2061 [==============================] - 0s 76us/step - loss: 0.0015 - acc: 1.0000 - val_loss: 0.6381 - val_acc: 0.7758\n",
      "Epoch 32/50\n",
      "2061/2061 [==============================] - 0s 72us/step - loss: 0.0014 - acc: 1.0000 - val_loss: 0.6377 - val_acc: 0.7802\n",
      "Epoch 33/50\n",
      "2061/2061 [==============================] - 0s 69us/step - loss: 0.0013 - acc: 1.0000 - val_loss: 0.6456 - val_acc: 0.7787\n",
      "Epoch 34/50\n",
      "2061/2061 [==============================] - 0s 69us/step - loss: 0.0012 - acc: 1.0000 - val_loss: 0.6483 - val_acc: 0.7802\n",
      "Epoch 35/50\n",
      "2061/2061 [==============================] - 0s 74us/step - loss: 0.0011 - acc: 1.0000 - val_loss: 0.6547 - val_acc: 0.7787\n",
      "Epoch 36/50\n",
      "2061/2061 [==============================] - 0s 74us/step - loss: 0.0011 - acc: 1.0000 - val_loss: 0.6612 - val_acc: 0.7744\n",
      "Epoch 37/50\n",
      "2061/2061 [==============================] - 0s 77us/step - loss: 9.8020e-04 - acc: 1.0000 - val_loss: 0.6632 - val_acc: 0.7787\n",
      "Epoch 38/50\n",
      "2061/2061 [==============================] - 0s 77us/step - loss: 9.1789e-04 - acc: 1.0000 - val_loss: 0.6664 - val_acc: 0.7802\n",
      "Epoch 39/50\n",
      "2061/2061 [==============================] - 0s 76us/step - loss: 8.5174e-04 - acc: 1.0000 - val_loss: 0.6698 - val_acc: 0.7802\n",
      "Epoch 40/50\n",
      "2061/2061 [==============================] - 0s 73us/step - loss: 8.0477e-04 - acc: 1.0000 - val_loss: 0.6770 - val_acc: 0.7744\n",
      "Epoch 41/50\n",
      "2061/2061 [==============================] - 0s 85us/step - loss: 7.5662e-04 - acc: 1.0000 - val_loss: 0.6796 - val_acc: 0.7802\n",
      "Epoch 42/50\n",
      "2061/2061 [==============================] - 0s 75us/step - loss: 7.1192e-04 - acc: 1.0000 - val_loss: 0.6828 - val_acc: 0.7802\n",
      "Epoch 43/50\n",
      "2061/2061 [==============================] - 0s 76us/step - loss: 6.7422e-04 - acc: 1.0000 - val_loss: 0.6862 - val_acc: 0.7802\n",
      "Epoch 44/50\n",
      "2061/2061 [==============================] - 0s 76us/step - loss: 6.4283e-04 - acc: 1.0000 - val_loss: 0.6888 - val_acc: 0.7831\n",
      "Epoch 45/50\n",
      "2061/2061 [==============================] - 0s 80us/step - loss: 6.0813e-04 - acc: 1.0000 - val_loss: 0.6950 - val_acc: 0.7802\n",
      "Epoch 46/50\n",
      "2061/2061 [==============================] - 0s 77us/step - loss: 5.7913e-04 - acc: 1.0000 - val_loss: 0.6968 - val_acc: 0.7817\n",
      "Epoch 47/50\n",
      "2061/2061 [==============================] - 0s 78us/step - loss: 5.4397e-04 - acc: 1.0000 - val_loss: 0.7030 - val_acc: 0.7773\n",
      "Epoch 48/50\n",
      "2061/2061 [==============================] - 0s 83us/step - loss: 5.2135e-04 - acc: 1.0000 - val_loss: 0.7042 - val_acc: 0.7817\n",
      "Epoch 49/50\n",
      "2061/2061 [==============================] - 0s 75us/step - loss: 4.9608e-04 - acc: 1.0000 - val_loss: 0.7078 - val_acc: 0.7817\n",
      "Epoch 50/50\n",
      "2061/2061 [==============================] - 0s 74us/step - loss: 4.7041e-04 - acc: 1.0000 - val_loss: 0.7091 - val_acc: 0.7831\n"
     ]
    }
   ],
   "source": [
    "history = model.fit(X_train, y_train, \n",
    "                    epochs=50, \n",
    "                    verbose=True, \n",
    "                    validation_data=(X_test, y_test), \n",
    "                    batch_size=100)"
   ]
  },
  {
   "cell_type": "code",
   "execution_count": 55,
   "metadata": {},
   "outputs": [
    {
     "name": "stdout",
     "output_type": "stream",
     "text": [
      "Training Accuracy: 1.0000, Loss: 0.0005\n",
      "Testing Accuracy: 0.7831, Loss: 0.7091\n"
     ]
    }
   ],
   "source": [
    "loss, accuracy = model.evaluate(X_train, y_train, verbose=False)\n",
    "print('Training Accuracy: {:.4f}, Loss: {:.4f}'.format(accuracy, loss))\n",
    "loss,accuracy = model.evaluate(X_test, y_test, verbose=False)\n",
    "print('Testing Accuracy: {:.4f}, Loss: {:.4f}'.format(accuracy, loss))"
   ]
  },
  {
   "cell_type": "code",
   "execution_count": 56,
   "metadata": {},
   "outputs": [
    {
     "data": {
      "image/png": "[encoded data removed]",
      "text/plain": [
       "<matplotlib.figure.Figure at 0x7fc6f4518710>"
      ]
     },
     "metadata": {
      "needs_background": "light"
     },
     "output_type": "display_data"
    }
   ],
   "source": [
    "plot_history(history)"
   ]
  },
  {
   "cell_type": "markdown",
   "metadata": {},
   "source": [
    "#### Global max/average pooling takes the maximum/average of all features whereas in the other case you have to define the pool size. Keras has again its own layer that you can add in the sequential model"
   ]
  },
  {
   "cell_type": "code",
   "execution_count": 62,
   "metadata": {},
   "outputs": [],
   "source": [
    "embedding_dim = 50\n",
    "\n",
    "model = Sequential()\n",
    "model.add(Embedding(input_dim=vocab_size, \n",
    "                           output_dim=embedding_dim, \n",
    "                           input_length=maxlen))\n",
    "model.add(GlobalMaxPool1D())\n",
    "model.add(Dense(10, activation='relu'))\n",
    "model.add(Dense(1, activation='sigmoid'))"
   ]
  },
  {
   "cell_type": "code",
   "execution_count": 63,
   "metadata": {},
   "outputs": [],
   "source": [
    "model.compile(optimizer='adam',\n",
    "              loss='binary_crossentropy',\n",
    "              metrics=['accuracy'])"
   ]
  },
  {
   "cell_type": "code",
   "execution_count": 64,
   "metadata": {},
   "outputs": [
    {
     "name": "stdout",
     "output_type": "stream",
     "text": [
      "_________________________________________________________________\n",
      "Layer (type)                 Output Shape              Param #   \n",
      "=================================================================\n",
      "embedding_4 (Embedding)      (None, 100, 50)           224000    \n",
      "_________________________________________________________________\n",
      "global_max_pooling1d_2 (Glob (None, 50)                0         \n",
      "_________________________________________________________________\n",
      "dense_5 (Dense)              (None, 10)                510       \n",
      "_________________________________________________________________\n",
      "dense_6 (Dense)              (None, 1)                 11        \n",
      "=================================================================\n",
      "Total params: 224,521\n",
      "Trainable params: 224,521\n",
      "Non-trainable params: 0\n",
      "_________________________________________________________________\n"
     ]
    }
   ],
   "source": [
    "model.summary()"
   ]
  },
  {
   "cell_type": "code",
   "execution_count": 65,
   "metadata": {
    "scrolled": false
   },
   "outputs": [
    {
     "name": "stdout",
     "output_type": "stream",
     "text": [
      "WARNING:tensorflow:From /home/info/anaconda3/envs/hackathon/lib/python3.5/site-packages/tensorflow/python/ops/math_grad.py:102: div (from tensorflow.python.ops.math_ops) is deprecated and will be removed in a future version.\n",
      "Instructions for updating:\n",
      "Deprecated in favor of operator or tf.math.divide.\n",
      "Train on 2061 samples, validate on 687 samples\n",
      "Epoch 1/50\n",
      "2061/2061 [==============================] - 1s 313us/step - loss: 0.6910 - acc: 0.6012 - val_loss: 0.6883 - val_acc: 0.6608\n",
      "Epoch 2/50\n",
      "2061/2061 [==============================] - 0s 79us/step - loss: 0.6784 - acc: 0.7569 - val_loss: 0.6790 - val_acc: 0.7060\n",
      "Epoch 3/50\n",
      "2061/2061 [==============================] - 0s 76us/step - loss: 0.6583 - acc: 0.8879 - val_loss: 0.6622 - val_acc: 0.7802\n",
      "Epoch 4/50\n",
      "2061/2061 [==============================] - 0s 83us/step - loss: 0.6266 - acc: 0.9054 - val_loss: 0.6358 - val_acc: 0.7991\n",
      "Epoch 5/50\n",
      "2061/2061 [==============================] - 0s 85us/step - loss: 0.5739 - acc: 0.9161 - val_loss: 0.5916 - val_acc: 0.8035\n",
      "Epoch 6/50\n",
      "2061/2061 [==============================] - 0s 109us/step - loss: 0.5001 - acc: 0.9330 - val_loss: 0.5414 - val_acc: 0.8166\n",
      "Epoch 7/50\n",
      "2061/2061 [==============================] - 0s 87us/step - loss: 0.4151 - acc: 0.9423 - val_loss: 0.4886 - val_acc: 0.8239\n",
      "Epoch 8/50\n",
      "2061/2061 [==============================] - 0s 86us/step - loss: 0.3282 - acc: 0.9549 - val_loss: 0.4439 - val_acc: 0.8311\n",
      "Epoch 9/50\n",
      "2061/2061 [==============================] - 0s 80us/step - loss: 0.2536 - acc: 0.9612 - val_loss: 0.4113 - val_acc: 0.8311\n",
      "Epoch 10/50\n",
      "2061/2061 [==============================] - 0s 89us/step - loss: 0.1955 - acc: 0.9670 - val_loss: 0.3918 - val_acc: 0.8268\n",
      "Epoch 11/50\n",
      "2061/2061 [==============================] - 0s 97us/step - loss: 0.1522 - acc: 0.9743 - val_loss: 0.3808 - val_acc: 0.8297\n",
      "Epoch 12/50\n",
      "2061/2061 [==============================] - 0s 77us/step - loss: 0.1195 - acc: 0.9806 - val_loss: 0.3758 - val_acc: 0.8297\n",
      "Epoch 13/50\n",
      "2061/2061 [==============================] - 0s 104us/step - loss: 0.0958 - acc: 0.9879 - val_loss: 0.3749 - val_acc: 0.8239\n",
      "Epoch 14/50\n",
      "2061/2061 [==============================] - 0s 108us/step - loss: 0.0772 - acc: 0.9908 - val_loss: 0.3760 - val_acc: 0.8180\n",
      "Epoch 15/50\n",
      "2061/2061 [==============================] - 0s 131us/step - loss: 0.0629 - acc: 0.9932 - val_loss: 0.3788 - val_acc: 0.8195\n",
      "Epoch 16/50\n",
      "2061/2061 [==============================] - 0s 75us/step - loss: 0.0519 - acc: 0.9932 - val_loss: 0.3826 - val_acc: 0.8180\n",
      "Epoch 17/50\n",
      "2061/2061 [==============================] - 0s 128us/step - loss: 0.0432 - acc: 0.9942 - val_loss: 0.3884 - val_acc: 0.8224\n",
      "Epoch 18/50\n",
      "2061/2061 [==============================] - 0s 69us/step - loss: 0.0361 - acc: 0.9951 - val_loss: 0.3926 - val_acc: 0.8210\n",
      "Epoch 19/50\n",
      "2061/2061 [==============================] - 0s 82us/step - loss: 0.0305 - acc: 0.9961 - val_loss: 0.3981 - val_acc: 0.8166\n",
      "Epoch 20/50\n",
      "2061/2061 [==============================] - 0s 94us/step - loss: 0.0260 - acc: 0.9981 - val_loss: 0.4047 - val_acc: 0.8151\n",
      "Epoch 21/50\n",
      "2061/2061 [==============================] - 0s 68us/step - loss: 0.0224 - acc: 0.9985 - val_loss: 0.4101 - val_acc: 0.8195\n",
      "Epoch 22/50\n",
      "2061/2061 [==============================] - 0s 68us/step - loss: 0.0194 - acc: 0.9990 - val_loss: 0.4171 - val_acc: 0.8166\n",
      "Epoch 23/50\n",
      "2061/2061 [==============================] - 0s 67us/step - loss: 0.0169 - acc: 0.9990 - val_loss: 0.4225 - val_acc: 0.8195\n",
      "Epoch 24/50\n",
      "2061/2061 [==============================] - 0s 76us/step - loss: 0.0147 - acc: 0.9995 - val_loss: 0.4282 - val_acc: 0.8210\n",
      "Epoch 25/50\n",
      "2061/2061 [==============================] - 0s 63us/step - loss: 0.0130 - acc: 0.9995 - val_loss: 0.4340 - val_acc: 0.8195\n",
      "Epoch 26/50\n",
      "2061/2061 [==============================] - 0s 63us/step - loss: 0.0115 - acc: 0.9995 - val_loss: 0.4400 - val_acc: 0.8166\n",
      "Epoch 27/50\n",
      "2061/2061 [==============================] - 0s 64us/step - loss: 0.0102 - acc: 0.9995 - val_loss: 0.4454 - val_acc: 0.8166\n",
      "Epoch 28/50\n",
      "2061/2061 [==============================] - 0s 66us/step - loss: 0.0092 - acc: 1.0000 - val_loss: 0.4511 - val_acc: 0.8166\n",
      "Epoch 29/50\n",
      "2061/2061 [==============================] - 0s 64us/step - loss: 0.0082 - acc: 1.0000 - val_loss: 0.4559 - val_acc: 0.8151\n",
      "Epoch 30/50\n",
      "2061/2061 [==============================] - 0s 65us/step - loss: 0.0074 - acc: 1.0000 - val_loss: 0.4614 - val_acc: 0.8137\n",
      "Epoch 31/50\n",
      "2061/2061 [==============================] - 0s 66us/step - loss: 0.0067 - acc: 1.0000 - val_loss: 0.4667 - val_acc: 0.8151\n",
      "Epoch 32/50\n",
      "2061/2061 [==============================] - 0s 69us/step - loss: 0.0061 - acc: 1.0000 - val_loss: 0.4715 - val_acc: 0.8122\n",
      "Epoch 33/50\n",
      "2061/2061 [==============================] - 0s 63us/step - loss: 0.0056 - acc: 1.0000 - val_loss: 0.4762 - val_acc: 0.8137\n",
      "Epoch 34/50\n",
      "2061/2061 [==============================] - 0s 66us/step - loss: 0.0052 - acc: 1.0000 - val_loss: 0.4808 - val_acc: 0.8122\n",
      "Epoch 35/50\n",
      "2061/2061 [==============================] - 0s 65us/step - loss: 0.0047 - acc: 1.0000 - val_loss: 0.4855 - val_acc: 0.8093\n",
      "Epoch 36/50\n",
      "2061/2061 [==============================] - 0s 61us/step - loss: 0.0044 - acc: 1.0000 - val_loss: 0.4904 - val_acc: 0.8137\n",
      "Epoch 37/50\n",
      "2061/2061 [==============================] - 0s 69us/step - loss: 0.0040 - acc: 1.0000 - val_loss: 0.4948 - val_acc: 0.8137\n",
      "Epoch 38/50\n",
      "2061/2061 [==============================] - 0s 64us/step - loss: 0.0037 - acc: 1.0000 - val_loss: 0.4988 - val_acc: 0.8137\n",
      "Epoch 39/50\n",
      "2061/2061 [==============================] - 0s 65us/step - loss: 0.0035 - acc: 1.0000 - val_loss: 0.5033 - val_acc: 0.8151\n",
      "Epoch 40/50\n",
      "2061/2061 [==============================] - 0s 65us/step - loss: 0.0032 - acc: 1.0000 - val_loss: 0.5075 - val_acc: 0.8151\n",
      "Epoch 41/50\n",
      "2061/2061 [==============================] - 0s 66us/step - loss: 0.0030 - acc: 1.0000 - val_loss: 0.5119 - val_acc: 0.8151\n",
      "Epoch 42/50\n",
      "2061/2061 [==============================] - 0s 63us/step - loss: 0.0028 - acc: 1.0000 - val_loss: 0.5158 - val_acc: 0.8122\n",
      "Epoch 43/50\n",
      "2061/2061 [==============================] - 0s 64us/step - loss: 0.0026 - acc: 1.0000 - val_loss: 0.5201 - val_acc: 0.8122\n",
      "Epoch 44/50\n",
      "2061/2061 [==============================] - 0s 65us/step - loss: 0.0025 - acc: 1.0000 - val_loss: 0.5243 - val_acc: 0.8137\n",
      "Epoch 45/50\n",
      "2061/2061 [==============================] - 0s 67us/step - loss: 0.0023 - acc: 1.0000 - val_loss: 0.5282 - val_acc: 0.8137\n",
      "Epoch 46/50\n",
      "2061/2061 [==============================] - 0s 71us/step - loss: 0.0022 - acc: 1.0000 - val_loss: 0.5319 - val_acc: 0.8122\n",
      "Epoch 47/50\n",
      "2061/2061 [==============================] - 0s 65us/step - loss: 0.0021 - acc: 1.0000 - val_loss: 0.5355 - val_acc: 0.8122\n",
      "Epoch 48/50\n",
      "2061/2061 [==============================] - 0s 67us/step - loss: 0.0020 - acc: 1.0000 - val_loss: 0.5391 - val_acc: 0.8122\n",
      "Epoch 49/50\n",
      "2061/2061 [==============================] - 0s 65us/step - loss: 0.0018 - acc: 1.0000 - val_loss: 0.5423 - val_acc: 0.8122\n",
      "Epoch 50/50\n",
      "2061/2061 [==============================] - 0s 66us/step - loss: 0.0018 - acc: 1.0000 - val_loss: 0.5457 - val_acc: 0.8122\n"
     ]
    }
   ],
   "source": [
    "history = model.fit(X_train, y_train,\n",
    "                    epochs=50,\n",
    "                    verbose=True,\n",
    "                    validation_data=(X_test, y_test),\n",
    "                    batch_size=100)"
   ]
  },
  {
   "cell_type": "code",
   "execution_count": 66,
   "metadata": {},
   "outputs": [
    {
     "name": "stdout",
     "output_type": "stream",
     "text": [
      "Training Accuracy: 1.0000\n",
      "Testing Accuracy:  0.8122\n"
     ]
    }
   ],
   "source": [
    "loss, accuracy = model.evaluate(X_train, y_train, verbose=False)\n",
    "print(\"Training Accuracy: {:.4f}\".format(accuracy))\n",
    "loss, accuracy = model.evaluate(X_test, y_test, verbose=False)\n",
    "print(\"Testing Accuracy:  {:.4f}\".format(accuracy))"
   ]
  },
  {
   "cell_type": "code",
   "execution_count": 67,
   "metadata": {
    "scrolled": true
   },
   "outputs": [
    {
     "data": {
      "image/png": "[encoded data removed]",
      "text/plain": [
       "<matplotlib.figure.Figure at 0x7fc6f4322b00>"
      ]
     },
     "metadata": {
      "needs_background": "light"
     },
     "output_type": "display_data"
    }
   ],
   "source": [
    "plot_history(history)"
   ]
  },
  {
   "cell_type": "markdown",
   "metadata": {},
   "source": [
    "### Using CNN"
   ]
  },
  {
   "cell_type": "code",
   "execution_count": 70,
   "metadata": {},
   "outputs": [],
   "source": [
    "from keras.layers import Conv1D"
   ]
  },
  {
   "cell_type": "code",
   "execution_count": 71,
   "metadata": {},
   "outputs": [],
   "source": [
    "embedding_dim = 100\n",
    "\n",
    "model = Sequential()\n",
    "model.add(Embedding(vocab_size, embedding_dim, input_length=maxlen))\n",
    "model.add(Conv1D(128, 5, activation='relu'))\n",
    "model.add(GlobalMaxPooling1D())\n",
    "model.add(Dense(10, activation='relu'))\n",
    "model.add(Dense(1, activation='sigmoid'))"
   ]
  },
  {
   "cell_type": "code",
   "execution_count": 72,
   "metadata": {},
   "outputs": [],
   "source": [
    "model.compile(optimizer='adam',\n",
    "              loss='binary_crossentropy',\n",
    "              metrics=['accuracy'])"
   ]
  },
  {
   "cell_type": "code",
   "execution_count": 73,
   "metadata": {},
   "outputs": [
    {
     "name": "stdout",
     "output_type": "stream",
     "text": [
      "_________________________________________________________________\n",
      "Layer (type)                 Output Shape              Param #   \n",
      "=================================================================\n",
      "embedding_6 (Embedding)      (None, 100, 100)          448000    \n",
      "_________________________________________________________________\n",
      "conv1d_1 (Conv1D)            (None, 96, 128)           64128     \n",
      "_________________________________________________________________\n",
      "global_max_pooling1d_3 (Glob (None, 128)               0         \n",
      "_________________________________________________________________\n",
      "dense_7 (Dense)              (None, 10)                1290      \n",
      "_________________________________________________________________\n",
      "dense_8 (Dense)              (None, 1)                 11        \n",
      "=================================================================\n",
      "Total params: 513,429\n",
      "Trainable params: 513,429\n",
      "Non-trainable params: 0\n",
      "_________________________________________________________________\n"
     ]
    }
   ],
   "source": [
    "model.summary()"
   ]
  },
  {
   "cell_type": "code",
   "execution_count": 74,
   "metadata": {},
   "outputs": [],
   "source": [
    "history = model.fit(X_train, y_train,\n",
    "                    epochs=50,\n",
    "                    verbose=False,\n",
    "                    validation_data=(X_test, y_test),\n",
    "                    batch_size=100)"
   ]
  },
  {
   "cell_type": "code",
   "execution_count": 98,
   "metadata": {},
   "outputs": [
    {
     "name": "stdout",
     "output_type": "stream",
     "text": [
      "Training Accuracy: 1.0000\n",
      "Testing Accuracy:  0.7962\n"
     ]
    }
   ],
   "source": [
    "loss, accuracy = model.evaluate(X_train, y_train, verbose=False)\n",
    "print(\"Training Accuracy: {:.4f}\".format(accuracy))\n",
    "loss, accuracy = model.evaluate(X_test, y_test, verbose=False)\n",
    "print(\"Testing Accuracy:  {:.4f}\".format(accuracy))"
   ]
  },
  {
   "cell_type": "code",
   "execution_count": 99,
   "metadata": {},
   "outputs": [
    {
     "data": {
      "image/png": "[encoded data removed]",
      "text/plain": [
       "<matplotlib.figure.Figure at 0x7fc6ec15a4e0>"
      ]
     },
     "metadata": {
      "needs_background": "light"
     },
     "output_type": "display_data"
    }
   ],
   "source": [
    "plot_history(history)"
   ]
  },
  {
   "cell_type": "markdown",
   "metadata": {},
   "source": [
    "### Hyperperameters Optimization"
   ]
  },
  {
   "cell_type": "code",
   "execution_count": 117,
   "metadata": {},
   "outputs": [],
   "source": [
    "from sklearn.model_selection import RandomizedSearchCV\n",
    "from keras.wrappers.scikit_learn import KerasClassifier"
   ]
  },
  {
   "cell_type": "code",
   "execution_count": 119,
   "metadata": {},
   "outputs": [],
   "source": [
    "def create_model(num_filters, kernel_size, vocab_size, embedding_dim, maxlen):\n",
    "    model = Sequential()\n",
    "    model.add(Embedding(vocab_size, embedding_dim, input_length=maxlen))\n",
    "    model.add(Conv1D(num_filters, kernel_size, activation='relu'))\n",
    "    model.add(GlobalMaxPooling1D())\n",
    "    model.add(Dense(10, activation='relu'))\n",
    "    model.add(Dense(1, activation='sigmoid'))\n",
    "    model.compile(optimizer='adam',\n",
    "                  loss='binary_crossentropy',\n",
    "                  metrics=['accuracy'])\n",
    "    return model"
   ]
  },
  {
   "cell_type": "code",
   "execution_count": 113,
   "metadata": {},
   "outputs": [],
   "source": [
    "param_grid = dict(num_filters=[32, 64, 128],\n",
    "                  kernel_size=[3, 5, 7],\n",
    "                  vocab_size=[5000], \n",
    "                  embedding_dim=[50],\n",
    "                  maxlen=[100])"
   ]
  },
  {
   "cell_type": "code",
   "execution_count": 120,
   "metadata": {},
   "outputs": [
    {
     "name": "stdout",
     "output_type": "stream",
     "text": [
      "Running grid search for data set : amzn\n",
      "Fitting 4 folds for each of 5 candidates, totalling 20 fits\n"
     ]
    },
    {
     "name": "stderr",
     "output_type": "stream",
     "text": [
      "[Parallel(n_jobs=1)]: Using backend SequentialBackend with 1 concurrent workers.\n",
      "[Parallel(n_jobs=1)]: Done  20 out of  20 | elapsed:  3.6min finished\n"
     ]
    },
    {
     "name": "stdout",
     "output_type": "stream",
     "text": [
      "Running amzn data set\n",
      "Best Accuracy : 0.8098\n",
      "{'num_filters': 64, 'vocab_size': 4376, 'kernel_size': 3, 'embedding_dim': 50, 'maxlen': 100}\n",
      "Test Accuracy : 0.8268\n",
      "\n",
      "\n",
      "Running grid search for data set : imdb\n",
      "Fitting 4 folds for each of 5 candidates, totalling 20 fits\n"
     ]
    },
    {
     "name": "stderr",
     "output_type": "stream",
     "text": [
      "[Parallel(n_jobs=1)]: Using backend SequentialBackend with 1 concurrent workers.\n",
      "[Parallel(n_jobs=1)]: Done  20 out of  20 | elapsed:  4.6min finished\n"
     ]
    },
    {
     "name": "stdout",
     "output_type": "stream",
     "text": [
      "Running imdb data set\n",
      "Best Accuracy : 0.8054\n",
      "{'num_filters': 64, 'vocab_size': 4376, 'kernel_size': 5, 'embedding_dim': 50, 'maxlen': 100}\n",
      "Test Accuracy : 0.8268\n",
      "\n",
      "\n",
      "Running grid search for data set : yelp\n",
      "Fitting 4 folds for each of 5 candidates, totalling 20 fits\n"
     ]
    },
    {
     "name": "stderr",
     "output_type": "stream",
     "text": [
      "[Parallel(n_jobs=1)]: Using backend SequentialBackend with 1 concurrent workers.\n",
      "[Parallel(n_jobs=1)]: Done  20 out of  20 | elapsed:  4.8min finished\n"
     ]
    },
    {
     "name": "stdout",
     "output_type": "stream",
     "text": [
      "Running yelp data set\n",
      "Best Accuracy : 0.8151\n",
      "{'num_filters': 64, 'vocab_size': 4376, 'kernel_size': 3, 'embedding_dim': 50, 'maxlen': 100}\n",
      "Test Accuracy : 0.8384\n",
      "\n",
      "\n"
     ]
    }
   ],
   "source": [
    "epochs = 20\n",
    "embedding_dim = 50\n",
    "maxlen = 100\n",
    "output_file = 'output.txt'\n",
    "\n",
    "for source, frame in df.groupby('source'):\n",
    "    print('Running grid search for data set :', source)\n",
    "    sentences = df['sentence'].values\n",
    "    y = df['label'].values\n",
    "\n",
    "    sentences_train, sentences_test, y_train, y_test = train_test_split(\n",
    "        sentences, y, test_size=0.25, random_state=1000)\n",
    "\n",
    "    tokenizer = Tokenizer(num_words=5000)\n",
    "    tokenizer.fit_on_texts(sentences_train)\n",
    "    X_train = tokenizer.texts_to_sequences(sentences_train)\n",
    "    X_test = tokenizer.texts_to_sequences(sentences_test)\n",
    "\n",
    "    vocab_size = len(tokenizer.word_index) + 1\n",
    "\n",
    "    X_train = pad_sequences(X_train, padding='post', maxlen=maxlen)\n",
    "    X_test = pad_sequences(X_test, padding='post', maxlen=maxlen)\n",
    "\n",
    "    # Parameter grid for grid search\n",
    "    param_grid = dict(num_filters=[32, 64, 128],\n",
    "                      kernel_size=[3, 5, 7],\n",
    "                      vocab_size=[vocab_size],\n",
    "                      embedding_dim=[embedding_dim],\n",
    "                      maxlen=[maxlen])\n",
    "    model = KerasClassifier(build_fn=create_model,\n",
    "                            epochs=epochs, batch_size=100,\n",
    "                            verbose=False)\n",
    "    grid = RandomizedSearchCV(estimator=model, param_distributions=param_grid,\n",
    "                              cv=4, verbose=1, n_iter=5)\n",
    "    grid_result = grid.fit(X_train, y_train)\n",
    "\n",
    "    test_accuracy = grid.score(X_test, y_test)\n",
    "    \n",
    "    s = ('Running {} data set\\nBest Accuracy : '\n",
    "             '{:.4f}\\n{}\\nTest Accuracy : {:.4f}\\n\\n')\n",
    "    output_string = s.format(\n",
    "        source,\n",
    "        grid_result.best_score_,\n",
    "        grid_result.best_params_,\n",
    "        test_accuracy)\n",
    "    print(output_string)"
   ]
  }
 ],
 "metadata": {
  "kernelspec": {
   "display_name": "Python 3",
   "language": "python",
   "name": "python3"
  },
  "language_info": {
   "codemirror_mode": {
    "name": "ipython",
    "version": 3
   },
   "file_extension": ".py",
   "mimetype": "text/x-python",
   "name": "python",
   "nbconvert_exporter": "python",
   "pygments_lexer": "ipython3",
   "version": "3.5.2"
  }
 },
 "nbformat": 4,
 "nbformat_minor": 2
}
